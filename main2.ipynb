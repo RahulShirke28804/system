{
 "cells": [
  {
   "cell_type": "code",
   "execution_count": 1,
   "id": "c6803829-e20e-4222-8e94-c82d5149ad92",
   "metadata": {},
   "outputs": [],
   "source": [
    "import pandas as pd"
   ]
  },
  {
   "cell_type": "code",
   "execution_count": 2,
   "id": "6c5dbb8f-46e0-4974-96cc-cc63895d8ff3",
   "metadata": {},
   "outputs": [],
   "source": [
    "Null = None\n",
    "data = [\n",
    "    {\"Id\":1, \"Name\":\"Virat\", \"Age\":39, \"SPOS\":78, \"DSBDA\":79, \"AI\":88},\n",
    "    {\"Id\":2,\"Name\":\"Rajat\",\"Age\":23,\"SPOS\":59,\"DSBDA\":50,\"AI\":'$'},\n",
    "    {\"Id\":5,\"Name\":\"Jitesh\",\"Age\":30,\"SPOS\":'$',\"DSBDA\":90,\"AI\":79},\n",
    "    {\"Id\":4,\"Name\":\"Yash\",\"Age\":Null,\"SPOS\":79,\"DSBDA\":70,\"AI\":34},\n",
    "    {\"Id\":6,\"Name\":\"Suyash\",\"Age\":20,\"SPOS\":'$',\"DSBDA\":60,\"AI\":'$'},\n",
    "    {\"Id\":3,\"Name\":\"Krunal\",\"Age\":19,\"SPOS\":19,\"DSBDA\":'$',\"AI\":76},\n",
    "    {\"Id\":8,\"Name\":\"Dinesh\",\"Age\":'$',\"SPOS\":49,\"DSBDA\":50,\"AI\":'$'},\n",
    "    {\"Id\":9,\"Name\":\"Bhuvaneshwar\",\"Age\":35,\"SPOS\":89,\"DSBDA\":83,\"AI\":68},\n",
    "    {\"Id\":12,\"Name\":\"$\",\"Age\":50,\"SPOS\":'$',\"DSBDA\":45,\"AI\":81},\n",
    "    {\"Id\":76,\"Name\":Null,\"Age\":33,\"SPOS\":60,\"DSBDA\":'$',\"AI\":77},\n",
    "    {\"Id\":15,\"Name\":\"$\",\"Age\":Null,\"SPOS\":87,\"DSBDA\":93,\"AI\":Null},    \n",
    "]"
   ]
  },
  {
   "cell_type": "code",
   "execution_count": 3,
   "id": "f61e415a-342b-4baa-853d-987775868bba",
   "metadata": {},
   "outputs": [],
   "source": [
    "dftoc = pd.DataFrame(data)"
   ]
  },
  {
   "cell_type": "code",
   "execution_count": 4,
   "id": "d91269f9-0fea-4820-9304-fb2ab9bfdb6c",
   "metadata": {},
   "outputs": [],
   "source": [
    "dftoc.to_csv('Academic_data.csv', index = False)"
   ]
  },
  {
   "cell_type": "code",
   "execution_count": 6,
   "id": "0f6838bd-d920-4da4-9028-a2d9e0280059",
   "metadata": {},
   "outputs": [],
   "source": [
    "df = pd.read_csv('Academic_data.csv', na_values = \"$\")"
   ]
  },
  {
   "cell_type": "code",
   "execution_count": 7,
   "id": "22c98cb4-27a7-453a-92ab-c7423fb3dafa",
   "metadata": {},
   "outputs": [
    {
     "data": {
      "text/html": [
       "<div>\n",
       "<style scoped>\n",
       "    .dataframe tbody tr th:only-of-type {\n",
       "        vertical-align: middle;\n",
       "    }\n",
       "\n",
       "    .dataframe tbody tr th {\n",
       "        vertical-align: top;\n",
       "    }\n",
       "\n",
       "    .dataframe thead th {\n",
       "        text-align: right;\n",
       "    }\n",
       "</style>\n",
       "<table border=\"1\" class=\"dataframe\">\n",
       "  <thead>\n",
       "    <tr style=\"text-align: right;\">\n",
       "      <th></th>\n",
       "      <th>Id</th>\n",
       "      <th>Name</th>\n",
       "      <th>Age</th>\n",
       "      <th>SPOS</th>\n",
       "      <th>DSBDA</th>\n",
       "      <th>AI</th>\n",
       "    </tr>\n",
       "  </thead>\n",
       "  <tbody>\n",
       "    <tr>\n",
       "      <th>0</th>\n",
       "      <td>1</td>\n",
       "      <td>Virat</td>\n",
       "      <td>39.0</td>\n",
       "      <td>78.0</td>\n",
       "      <td>79.0</td>\n",
       "      <td>88.0</td>\n",
       "    </tr>\n",
       "    <tr>\n",
       "      <th>1</th>\n",
       "      <td>2</td>\n",
       "      <td>Rajat</td>\n",
       "      <td>23.0</td>\n",
       "      <td>59.0</td>\n",
       "      <td>50.0</td>\n",
       "      <td>NaN</td>\n",
       "    </tr>\n",
       "    <tr>\n",
       "      <th>2</th>\n",
       "      <td>5</td>\n",
       "      <td>Jitesh</td>\n",
       "      <td>30.0</td>\n",
       "      <td>NaN</td>\n",
       "      <td>90.0</td>\n",
       "      <td>79.0</td>\n",
       "    </tr>\n",
       "    <tr>\n",
       "      <th>3</th>\n",
       "      <td>4</td>\n",
       "      <td>Yash</td>\n",
       "      <td>NaN</td>\n",
       "      <td>79.0</td>\n",
       "      <td>70.0</td>\n",
       "      <td>34.0</td>\n",
       "    </tr>\n",
       "    <tr>\n",
       "      <th>4</th>\n",
       "      <td>6</td>\n",
       "      <td>Suyash</td>\n",
       "      <td>20.0</td>\n",
       "      <td>NaN</td>\n",
       "      <td>60.0</td>\n",
       "      <td>NaN</td>\n",
       "    </tr>\n",
       "  </tbody>\n",
       "</table>\n",
       "</div>"
      ],
      "text/plain": [
       "   Id    Name   Age  SPOS  DSBDA    AI\n",
       "0   1   Virat  39.0  78.0   79.0  88.0\n",
       "1   2   Rajat  23.0  59.0   50.0   NaN\n",
       "2   5  Jitesh  30.0   NaN   90.0  79.0\n",
       "3   4    Yash   NaN  79.0   70.0  34.0\n",
       "4   6  Suyash  20.0   NaN   60.0   NaN"
      ]
     },
     "execution_count": 7,
     "metadata": {},
     "output_type": "execute_result"
    }
   ],
   "source": [
    "df.head()"
   ]
  },
  {
   "cell_type": "code",
   "execution_count": 8,
   "id": "eabcad4f-9d6d-4b4b-9148-9ee6a30cd260",
   "metadata": {},
   "outputs": [
    {
     "data": {
      "text/html": [
       "<div>\n",
       "<style scoped>\n",
       "    .dataframe tbody tr th:only-of-type {\n",
       "        vertical-align: middle;\n",
       "    }\n",
       "\n",
       "    .dataframe tbody tr th {\n",
       "        vertical-align: top;\n",
       "    }\n",
       "\n",
       "    .dataframe thead th {\n",
       "        text-align: right;\n",
       "    }\n",
       "</style>\n",
       "<table border=\"1\" class=\"dataframe\">\n",
       "  <thead>\n",
       "    <tr style=\"text-align: right;\">\n",
       "      <th></th>\n",
       "      <th>Id</th>\n",
       "      <th>Name</th>\n",
       "      <th>Age</th>\n",
       "      <th>SPOS</th>\n",
       "      <th>DSBDA</th>\n",
       "      <th>AI</th>\n",
       "    </tr>\n",
       "  </thead>\n",
       "  <tbody>\n",
       "    <tr>\n",
       "      <th>6</th>\n",
       "      <td>8</td>\n",
       "      <td>Dinesh</td>\n",
       "      <td>NaN</td>\n",
       "      <td>49.0</td>\n",
       "      <td>50.0</td>\n",
       "      <td>NaN</td>\n",
       "    </tr>\n",
       "    <tr>\n",
       "      <th>7</th>\n",
       "      <td>9</td>\n",
       "      <td>Bhuvaneshwar</td>\n",
       "      <td>35.0</td>\n",
       "      <td>89.0</td>\n",
       "      <td>83.0</td>\n",
       "      <td>68.0</td>\n",
       "    </tr>\n",
       "    <tr>\n",
       "      <th>8</th>\n",
       "      <td>12</td>\n",
       "      <td>NaN</td>\n",
       "      <td>50.0</td>\n",
       "      <td>NaN</td>\n",
       "      <td>45.0</td>\n",
       "      <td>81.0</td>\n",
       "    </tr>\n",
       "    <tr>\n",
       "      <th>9</th>\n",
       "      <td>76</td>\n",
       "      <td>NaN</td>\n",
       "      <td>33.0</td>\n",
       "      <td>60.0</td>\n",
       "      <td>NaN</td>\n",
       "      <td>77.0</td>\n",
       "    </tr>\n",
       "    <tr>\n",
       "      <th>10</th>\n",
       "      <td>15</td>\n",
       "      <td>NaN</td>\n",
       "      <td>NaN</td>\n",
       "      <td>87.0</td>\n",
       "      <td>93.0</td>\n",
       "      <td>NaN</td>\n",
       "    </tr>\n",
       "  </tbody>\n",
       "</table>\n",
       "</div>"
      ],
      "text/plain": [
       "    Id          Name   Age  SPOS  DSBDA    AI\n",
       "6    8        Dinesh   NaN  49.0   50.0   NaN\n",
       "7    9  Bhuvaneshwar  35.0  89.0   83.0  68.0\n",
       "8   12           NaN  50.0   NaN   45.0  81.0\n",
       "9   76           NaN  33.0  60.0    NaN  77.0\n",
       "10  15           NaN   NaN  87.0   93.0   NaN"
      ]
     },
     "execution_count": 8,
     "metadata": {},
     "output_type": "execute_result"
    }
   ],
   "source": [
    "df.tail()"
   ]
  },
  {
   "cell_type": "code",
   "execution_count": 9,
   "id": "da75736d-ed73-4641-9453-1cefc035b15a",
   "metadata": {},
   "outputs": [
    {
     "data": {
      "text/plain": [
       "Id       0\n",
       "Name     3\n",
       "Age      3\n",
       "SPOS     3\n",
       "DSBDA    2\n",
       "AI       4\n",
       "dtype: int64"
      ]
     },
     "execution_count": 9,
     "metadata": {},
     "output_type": "execute_result"
    }
   ],
   "source": [
    "df.isnull().sum()"
   ]
  },
  {
   "cell_type": "code",
   "execution_count": 13,
   "id": "f474c55b-161e-4a1b-a9fc-7956e5c17a1c",
   "metadata": {},
   "outputs": [
    {
     "data": {
      "text/plain": [
       "Id         int64\n",
       "Name      object\n",
       "Age      float64\n",
       "SPOS     float64\n",
       "DSBDA    float64\n",
       "AI       float64\n",
       "dtype: object"
      ]
     },
     "execution_count": 13,
     "metadata": {},
     "output_type": "execute_result"
    }
   ],
   "source": [
    "df.dtypes"
   ]
  },
  {
   "cell_type": "code",
   "execution_count": 23,
   "id": "e2512e57-6f5b-43d3-9ad5-a533f3e6a201",
   "metadata": {},
   "outputs": [],
   "source": [
    "x = df['Age'].mean()\n",
    "df.fillna({'Age': x}, inplace=True)"
   ]
  },
  {
   "cell_type": "code",
   "execution_count": 24,
   "id": "f99b9d15-e3cf-4687-ab1e-7fc87ebbecb1",
   "metadata": {},
   "outputs": [],
   "source": [
    "x = df['SPOS'].mean()\n",
    "df.fillna({'SPOS' : x}, inplace = True)"
   ]
  },
  {
   "cell_type": "code",
   "execution_count": 25,
   "id": "2f353033-786e-424e-953d-bb0f24c0c157",
   "metadata": {},
   "outputs": [],
   "source": [
    "x = df['DSBDA'].mean()\n",
    "df.fillna({'DSBDA' : x}, inplace = True)"
   ]
  },
  {
   "cell_type": "code",
   "execution_count": 26,
   "id": "2a2ff2b0-b010-42e3-9033-8a1de205a413",
   "metadata": {},
   "outputs": [],
   "source": [
    "x = df['AI'].mean()\n",
    "df.fillna({'AI' : x}, inplace = True)"
   ]
  },
  {
   "cell_type": "code",
   "execution_count": 28,
   "id": "306345cf-e384-4a22-9518-cb49707dd6c6",
   "metadata": {},
   "outputs": [],
   "source": [
    "df.dropna(inplace = True)"
   ]
  },
  {
   "cell_type": "code",
   "execution_count": 29,
   "id": "f53370bb-d965-45cc-b3b4-6012746b86e0",
   "metadata": {},
   "outputs": [
    {
     "data": {
      "text/html": [
       "<div>\n",
       "<style scoped>\n",
       "    .dataframe tbody tr th:only-of-type {\n",
       "        vertical-align: middle;\n",
       "    }\n",
       "\n",
       "    .dataframe tbody tr th {\n",
       "        vertical-align: top;\n",
       "    }\n",
       "\n",
       "    .dataframe thead th {\n",
       "        text-align: right;\n",
       "    }\n",
       "</style>\n",
       "<table border=\"1\" class=\"dataframe\">\n",
       "  <thead>\n",
       "    <tr style=\"text-align: right;\">\n",
       "      <th></th>\n",
       "      <th>Id</th>\n",
       "      <th>Name</th>\n",
       "      <th>Age</th>\n",
       "      <th>SPOS</th>\n",
       "      <th>DSBDA</th>\n",
       "      <th>AI</th>\n",
       "    </tr>\n",
       "  </thead>\n",
       "  <tbody>\n",
       "    <tr>\n",
       "      <th>0</th>\n",
       "      <td>1</td>\n",
       "      <td>Virat</td>\n",
       "      <td>39.000</td>\n",
       "      <td>78.0</td>\n",
       "      <td>79.000000</td>\n",
       "      <td>88.000000</td>\n",
       "    </tr>\n",
       "    <tr>\n",
       "      <th>1</th>\n",
       "      <td>2</td>\n",
       "      <td>Rajat</td>\n",
       "      <td>23.000</td>\n",
       "      <td>59.0</td>\n",
       "      <td>50.000000</td>\n",
       "      <td>71.857143</td>\n",
       "    </tr>\n",
       "    <tr>\n",
       "      <th>2</th>\n",
       "      <td>5</td>\n",
       "      <td>Jitesh</td>\n",
       "      <td>30.000</td>\n",
       "      <td>65.0</td>\n",
       "      <td>90.000000</td>\n",
       "      <td>79.000000</td>\n",
       "    </tr>\n",
       "    <tr>\n",
       "      <th>3</th>\n",
       "      <td>4</td>\n",
       "      <td>Yash</td>\n",
       "      <td>31.125</td>\n",
       "      <td>79.0</td>\n",
       "      <td>70.000000</td>\n",
       "      <td>34.000000</td>\n",
       "    </tr>\n",
       "    <tr>\n",
       "      <th>4</th>\n",
       "      <td>6</td>\n",
       "      <td>Suyash</td>\n",
       "      <td>20.000</td>\n",
       "      <td>65.0</td>\n",
       "      <td>60.000000</td>\n",
       "      <td>71.857143</td>\n",
       "    </tr>\n",
       "    <tr>\n",
       "      <th>5</th>\n",
       "      <td>3</td>\n",
       "      <td>Krunal</td>\n",
       "      <td>19.000</td>\n",
       "      <td>19.0</td>\n",
       "      <td>68.888889</td>\n",
       "      <td>76.000000</td>\n",
       "    </tr>\n",
       "    <tr>\n",
       "      <th>6</th>\n",
       "      <td>8</td>\n",
       "      <td>Dinesh</td>\n",
       "      <td>31.125</td>\n",
       "      <td>49.0</td>\n",
       "      <td>50.000000</td>\n",
       "      <td>71.857143</td>\n",
       "    </tr>\n",
       "    <tr>\n",
       "      <th>7</th>\n",
       "      <td>9</td>\n",
       "      <td>Bhuvaneshwar</td>\n",
       "      <td>35.000</td>\n",
       "      <td>89.0</td>\n",
       "      <td>83.000000</td>\n",
       "      <td>68.000000</td>\n",
       "    </tr>\n",
       "  </tbody>\n",
       "</table>\n",
       "</div>"
      ],
      "text/plain": [
       "   Id          Name     Age  SPOS      DSBDA         AI\n",
       "0   1         Virat  39.000  78.0  79.000000  88.000000\n",
       "1   2         Rajat  23.000  59.0  50.000000  71.857143\n",
       "2   5        Jitesh  30.000  65.0  90.000000  79.000000\n",
       "3   4          Yash  31.125  79.0  70.000000  34.000000\n",
       "4   6        Suyash  20.000  65.0  60.000000  71.857143\n",
       "5   3        Krunal  19.000  19.0  68.888889  76.000000\n",
       "6   8        Dinesh  31.125  49.0  50.000000  71.857143\n",
       "7   9  Bhuvaneshwar  35.000  89.0  83.000000  68.000000"
      ]
     },
     "execution_count": 29,
     "metadata": {},
     "output_type": "execute_result"
    }
   ],
   "source": [
    "df"
   ]
  },
  {
   "cell_type": "code",
   "execution_count": 30,
   "id": "8d7064eb-f6a7-4d4c-8728-3273d6163d44",
   "metadata": {},
   "outputs": [
    {
     "data": {
      "text/plain": [
       "Id       0\n",
       "Name     0\n",
       "Age      0\n",
       "SPOS     0\n",
       "DSBDA    0\n",
       "AI       0\n",
       "dtype: int64"
      ]
     },
     "execution_count": 30,
     "metadata": {},
     "output_type": "execute_result"
    }
   ],
   "source": [
    "df.isnull().sum()"
   ]
  },
  {
   "cell_type": "code",
   "execution_count": 31,
   "id": "86f94410-0a42-47b9-8b4d-d5bb865e0a0c",
   "metadata": {},
   "outputs": [
    {
     "data": {
      "text/plain": [
       "Id         int64\n",
       "Name      object\n",
       "Age      float64\n",
       "SPOS     float64\n",
       "DSBDA    float64\n",
       "AI       float64\n",
       "dtype: object"
      ]
     },
     "execution_count": 31,
     "metadata": {},
     "output_type": "execute_result"
    }
   ],
   "source": [
    "df.dtypes"
   ]
  },
  {
   "cell_type": "code",
   "execution_count": 32,
   "id": "1d8d6140-0904-40b0-9fca-577bfb7c40ca",
   "metadata": {},
   "outputs": [
    {
     "data": {
      "text/html": [
       "<div>\n",
       "<style scoped>\n",
       "    .dataframe tbody tr th:only-of-type {\n",
       "        vertical-align: middle;\n",
       "    }\n",
       "\n",
       "    .dataframe tbody tr th {\n",
       "        vertical-align: top;\n",
       "    }\n",
       "\n",
       "    .dataframe thead th {\n",
       "        text-align: right;\n",
       "    }\n",
       "</style>\n",
       "<table border=\"1\" class=\"dataframe\">\n",
       "  <thead>\n",
       "    <tr style=\"text-align: right;\">\n",
       "      <th></th>\n",
       "      <th>Id</th>\n",
       "      <th>Age</th>\n",
       "      <th>SPOS</th>\n",
       "      <th>DSBDA</th>\n",
       "      <th>AI</th>\n",
       "    </tr>\n",
       "  </thead>\n",
       "  <tbody>\n",
       "    <tr>\n",
       "      <th>count</th>\n",
       "      <td>8.000000</td>\n",
       "      <td>8.000000</td>\n",
       "      <td>8.00000</td>\n",
       "      <td>8.000000</td>\n",
       "      <td>8.000000</td>\n",
       "    </tr>\n",
       "    <tr>\n",
       "      <th>mean</th>\n",
       "      <td>4.750000</td>\n",
       "      <td>28.531250</td>\n",
       "      <td>62.87500</td>\n",
       "      <td>68.861111</td>\n",
       "      <td>70.071429</td>\n",
       "    </tr>\n",
       "    <tr>\n",
       "      <th>std</th>\n",
       "      <td>2.815772</td>\n",
       "      <td>7.184044</td>\n",
       "      <td>21.75472</td>\n",
       "      <td>14.836528</td>\n",
       "      <td>15.817288</td>\n",
       "    </tr>\n",
       "    <tr>\n",
       "      <th>min</th>\n",
       "      <td>1.000000</td>\n",
       "      <td>19.000000</td>\n",
       "      <td>19.00000</td>\n",
       "      <td>50.000000</td>\n",
       "      <td>34.000000</td>\n",
       "    </tr>\n",
       "    <tr>\n",
       "      <th>25%</th>\n",
       "      <td>2.750000</td>\n",
       "      <td>22.250000</td>\n",
       "      <td>56.50000</td>\n",
       "      <td>57.500000</td>\n",
       "      <td>70.892857</td>\n",
       "    </tr>\n",
       "    <tr>\n",
       "      <th>50%</th>\n",
       "      <td>4.500000</td>\n",
       "      <td>30.562500</td>\n",
       "      <td>65.00000</td>\n",
       "      <td>69.444444</td>\n",
       "      <td>71.857143</td>\n",
       "    </tr>\n",
       "    <tr>\n",
       "      <th>75%</th>\n",
       "      <td>6.500000</td>\n",
       "      <td>32.093750</td>\n",
       "      <td>78.25000</td>\n",
       "      <td>80.000000</td>\n",
       "      <td>76.750000</td>\n",
       "    </tr>\n",
       "    <tr>\n",
       "      <th>max</th>\n",
       "      <td>9.000000</td>\n",
       "      <td>39.000000</td>\n",
       "      <td>89.00000</td>\n",
       "      <td>90.000000</td>\n",
       "      <td>88.000000</td>\n",
       "    </tr>\n",
       "  </tbody>\n",
       "</table>\n",
       "</div>"
      ],
      "text/plain": [
       "             Id        Age      SPOS      DSBDA         AI\n",
       "count  8.000000   8.000000   8.00000   8.000000   8.000000\n",
       "mean   4.750000  28.531250  62.87500  68.861111  70.071429\n",
       "std    2.815772   7.184044  21.75472  14.836528  15.817288\n",
       "min    1.000000  19.000000  19.00000  50.000000  34.000000\n",
       "25%    2.750000  22.250000  56.50000  57.500000  70.892857\n",
       "50%    4.500000  30.562500  65.00000  69.444444  71.857143\n",
       "75%    6.500000  32.093750  78.25000  80.000000  76.750000\n",
       "max    9.000000  39.000000  89.00000  90.000000  88.000000"
      ]
     },
     "execution_count": 32,
     "metadata": {},
     "output_type": "execute_result"
    }
   ],
   "source": [
    "df.describe()"
   ]
  },
  {
   "cell_type": "code",
   "execution_count": 33,
   "id": "c31ba35e-9fa9-475a-9624-f6a9daefd08b",
   "metadata": {},
   "outputs": [
    {
     "data": {
      "text/html": [
       "<div>\n",
       "<style scoped>\n",
       "    .dataframe tbody tr th:only-of-type {\n",
       "        vertical-align: middle;\n",
       "    }\n",
       "\n",
       "    .dataframe tbody tr th {\n",
       "        vertical-align: top;\n",
       "    }\n",
       "\n",
       "    .dataframe thead th {\n",
       "        text-align: right;\n",
       "    }\n",
       "</style>\n",
       "<table border=\"1\" class=\"dataframe\">\n",
       "  <thead>\n",
       "    <tr style=\"text-align: right;\">\n",
       "      <th></th>\n",
       "      <th>Id</th>\n",
       "      <th>Name</th>\n",
       "      <th>Age</th>\n",
       "      <th>SPOS</th>\n",
       "      <th>DSBDA</th>\n",
       "      <th>AI</th>\n",
       "    </tr>\n",
       "  </thead>\n",
       "  <tbody>\n",
       "    <tr>\n",
       "      <th>0</th>\n",
       "      <td>1</td>\n",
       "      <td>Virat</td>\n",
       "      <td>39.000</td>\n",
       "      <td>78.0</td>\n",
       "      <td>79.0</td>\n",
       "      <td>88.000000</td>\n",
       "    </tr>\n",
       "    <tr>\n",
       "      <th>1</th>\n",
       "      <td>2</td>\n",
       "      <td>Rajat</td>\n",
       "      <td>23.000</td>\n",
       "      <td>59.0</td>\n",
       "      <td>50.0</td>\n",
       "      <td>71.857143</td>\n",
       "    </tr>\n",
       "    <tr>\n",
       "      <th>2</th>\n",
       "      <td>5</td>\n",
       "      <td>Jitesh</td>\n",
       "      <td>30.000</td>\n",
       "      <td>65.0</td>\n",
       "      <td>90.0</td>\n",
       "      <td>79.000000</td>\n",
       "    </tr>\n",
       "    <tr>\n",
       "      <th>3</th>\n",
       "      <td>4</td>\n",
       "      <td>Yash</td>\n",
       "      <td>31.125</td>\n",
       "      <td>79.0</td>\n",
       "      <td>70.0</td>\n",
       "      <td>34.000000</td>\n",
       "    </tr>\n",
       "    <tr>\n",
       "      <th>4</th>\n",
       "      <td>6</td>\n",
       "      <td>Suyash</td>\n",
       "      <td>20.000</td>\n",
       "      <td>65.0</td>\n",
       "      <td>60.0</td>\n",
       "      <td>71.857143</td>\n",
       "    </tr>\n",
       "  </tbody>\n",
       "</table>\n",
       "</div>"
      ],
      "text/plain": [
       "   Id    Name     Age  SPOS  DSBDA         AI\n",
       "0   1   Virat  39.000  78.0   79.0  88.000000\n",
       "1   2   Rajat  23.000  59.0   50.0  71.857143\n",
       "2   5  Jitesh  30.000  65.0   90.0  79.000000\n",
       "3   4    Yash  31.125  79.0   70.0  34.000000\n",
       "4   6  Suyash  20.000  65.0   60.0  71.857143"
      ]
     },
     "execution_count": 33,
     "metadata": {},
     "output_type": "execute_result"
    }
   ],
   "source": [
    "df.head()"
   ]
  },
  {
   "cell_type": "code",
   "execution_count": 34,
   "id": "3d61eec4-f845-41db-b18a-97c67738a826",
   "metadata": {},
   "outputs": [
    {
     "data": {
      "text/html": [
       "<div>\n",
       "<style scoped>\n",
       "    .dataframe tbody tr th:only-of-type {\n",
       "        vertical-align: middle;\n",
       "    }\n",
       "\n",
       "    .dataframe tbody tr th {\n",
       "        vertical-align: top;\n",
       "    }\n",
       "\n",
       "    .dataframe thead th {\n",
       "        text-align: right;\n",
       "    }\n",
       "</style>\n",
       "<table border=\"1\" class=\"dataframe\">\n",
       "  <thead>\n",
       "    <tr style=\"text-align: right;\">\n",
       "      <th></th>\n",
       "      <th>Id</th>\n",
       "      <th>Name</th>\n",
       "      <th>Age</th>\n",
       "      <th>SPOS</th>\n",
       "      <th>DSBDA</th>\n",
       "      <th>AI</th>\n",
       "    </tr>\n",
       "  </thead>\n",
       "  <tbody>\n",
       "    <tr>\n",
       "      <th>3</th>\n",
       "      <td>4</td>\n",
       "      <td>Yash</td>\n",
       "      <td>31.125</td>\n",
       "      <td>79.0</td>\n",
       "      <td>70.000000</td>\n",
       "      <td>34.000000</td>\n",
       "    </tr>\n",
       "    <tr>\n",
       "      <th>4</th>\n",
       "      <td>6</td>\n",
       "      <td>Suyash</td>\n",
       "      <td>20.000</td>\n",
       "      <td>65.0</td>\n",
       "      <td>60.000000</td>\n",
       "      <td>71.857143</td>\n",
       "    </tr>\n",
       "    <tr>\n",
       "      <th>5</th>\n",
       "      <td>3</td>\n",
       "      <td>Krunal</td>\n",
       "      <td>19.000</td>\n",
       "      <td>19.0</td>\n",
       "      <td>68.888889</td>\n",
       "      <td>76.000000</td>\n",
       "    </tr>\n",
       "    <tr>\n",
       "      <th>6</th>\n",
       "      <td>8</td>\n",
       "      <td>Dinesh</td>\n",
       "      <td>31.125</td>\n",
       "      <td>49.0</td>\n",
       "      <td>50.000000</td>\n",
       "      <td>71.857143</td>\n",
       "    </tr>\n",
       "    <tr>\n",
       "      <th>7</th>\n",
       "      <td>9</td>\n",
       "      <td>Bhuvaneshwar</td>\n",
       "      <td>35.000</td>\n",
       "      <td>89.0</td>\n",
       "      <td>83.000000</td>\n",
       "      <td>68.000000</td>\n",
       "    </tr>\n",
       "  </tbody>\n",
       "</table>\n",
       "</div>"
      ],
      "text/plain": [
       "   Id          Name     Age  SPOS      DSBDA         AI\n",
       "3   4          Yash  31.125  79.0  70.000000  34.000000\n",
       "4   6        Suyash  20.000  65.0  60.000000  71.857143\n",
       "5   3        Krunal  19.000  19.0  68.888889  76.000000\n",
       "6   8        Dinesh  31.125  49.0  50.000000  71.857143\n",
       "7   9  Bhuvaneshwar  35.000  89.0  83.000000  68.000000"
      ]
     },
     "execution_count": 34,
     "metadata": {},
     "output_type": "execute_result"
    }
   ],
   "source": [
    "df.tail()"
   ]
  },
  {
   "cell_type": "code",
   "execution_count": 35,
   "id": "e1607dc4-29b5-46ea-91c5-8025b0491692",
   "metadata": {},
   "outputs": [
    {
     "name": "stdout",
     "output_type": "stream",
     "text": [
      "<class 'pandas.core.frame.DataFrame'>\n",
      "Index: 8 entries, 0 to 7\n",
      "Data columns (total 6 columns):\n",
      " #   Column  Non-Null Count  Dtype  \n",
      "---  ------  --------------  -----  \n",
      " 0   Id      8 non-null      int64  \n",
      " 1   Name    8 non-null      object \n",
      " 2   Age     8 non-null      float64\n",
      " 3   SPOS    8 non-null      float64\n",
      " 4   DSBDA   8 non-null      float64\n",
      " 5   AI      8 non-null      float64\n",
      "dtypes: float64(4), int64(1), object(1)\n",
      "memory usage: 448.0+ bytes\n"
     ]
    }
   ],
   "source": [
    "df.info()"
   ]
  },
  {
   "cell_type": "code",
   "execution_count": 46,
   "id": "6909a329-1d61-4bc9-b2d1-cec89523bc98",
   "metadata": {},
   "outputs": [
    {
     "name": "stdout",
     "output_type": "stream",
     "text": [
      "   Id Name  Age  SPOS  DSBDA    AI\n",
      "0 NaN  NaN  NaN   NaN    NaN  88.0\n",
      "1 NaN  NaN  NaN   NaN    NaN   NaN\n",
      "2 NaN  NaN  NaN   NaN    NaN   NaN\n",
      "3 NaN  NaN  NaN   NaN    NaN  34.0\n",
      "4 NaN  NaN  NaN   NaN    NaN   NaN\n",
      "5 NaN  NaN  NaN  19.0    NaN   NaN\n",
      "6 NaN  NaN  NaN   NaN    NaN   NaN\n",
      "7 NaN  NaN  NaN   NaN    NaN   NaN\n"
     ]
    }
   ],
   "source": [
    "cols = ['Age', 'SPOS','DSBDA','AI']\n",
    "Q1=df[cols].quantile(0.25)\n",
    "Q3=df[cols].quantile(0.75)\n",
    "IQR=Q3-Q1\n",
    "lowerbound=Q1-1.5*IQR\n",
    "upperbound=Q3+1.5*IQR\n",
    "\n",
    "outliers = df[(df[cols] < lowerbound) | (df[cols] > upperbound)]\n",
    "print(outliers)\n",
    "\n",
    "dfcleaned=df[~outliers.any(axis=1)]"
   ]
  },
  {
   "cell_type": "code",
   "execution_count": 44,
   "id": "6e67f631-c016-448a-acc8-cea7742beb69",
   "metadata": {},
   "outputs": [
    {
     "data": {
      "text/plain": [
       "<Axes: xlabel='AI'>"
      ]
     },
     "execution_count": 44,
     "metadata": {},
     "output_type": "execute_result"
    },
    {
     "data": {
      "image/png": "[encoded data removed]",
      "text/plain": [
       "<Figure size 640x480 with 1 Axes>"
      ]
     },
     "metadata": {},
     "output_type": "display_data"
    }
   ],
   "source": [
    "import seaborn as sns\n",
    "\n",
    "sns.boxplot(x=df['AI'])"
   ]
  },
  {
   "cell_type": "code",
   "execution_count": 47,
   "id": "cea480cb-4df0-4a6e-83c8-631ca5b09831",
   "metadata": {},
   "outputs": [
    {
     "data": {
      "text/html": [
       "<div>\n",
       "<style scoped>\n",
       "    .dataframe tbody tr th:only-of-type {\n",
       "        vertical-align: middle;\n",
       "    }\n",
       "\n",
       "    .dataframe tbody tr th {\n",
       "        vertical-align: top;\n",
       "    }\n",
       "\n",
       "    .dataframe thead th {\n",
       "        text-align: right;\n",
       "    }\n",
       "</style>\n",
       "<table border=\"1\" class=\"dataframe\">\n",
       "  <thead>\n",
       "    <tr style=\"text-align: right;\">\n",
       "      <th></th>\n",
       "      <th>Id</th>\n",
       "      <th>Name</th>\n",
       "      <th>Age</th>\n",
       "      <th>SPOS</th>\n",
       "      <th>DSBDA</th>\n",
       "      <th>AI</th>\n",
       "    </tr>\n",
       "  </thead>\n",
       "  <tbody>\n",
       "    <tr>\n",
       "      <th>1</th>\n",
       "      <td>2</td>\n",
       "      <td>Rajat</td>\n",
       "      <td>23.000</td>\n",
       "      <td>59.0</td>\n",
       "      <td>50.0</td>\n",
       "      <td>71.857143</td>\n",
       "    </tr>\n",
       "    <tr>\n",
       "      <th>2</th>\n",
       "      <td>5</td>\n",
       "      <td>Jitesh</td>\n",
       "      <td>30.000</td>\n",
       "      <td>65.0</td>\n",
       "      <td>90.0</td>\n",
       "      <td>79.000000</td>\n",
       "    </tr>\n",
       "    <tr>\n",
       "      <th>4</th>\n",
       "      <td>6</td>\n",
       "      <td>Suyash</td>\n",
       "      <td>20.000</td>\n",
       "      <td>65.0</td>\n",
       "      <td>60.0</td>\n",
       "      <td>71.857143</td>\n",
       "    </tr>\n",
       "    <tr>\n",
       "      <th>6</th>\n",
       "      <td>8</td>\n",
       "      <td>Dinesh</td>\n",
       "      <td>31.125</td>\n",
       "      <td>49.0</td>\n",
       "      <td>50.0</td>\n",
       "      <td>71.857143</td>\n",
       "    </tr>\n",
       "    <tr>\n",
       "      <th>7</th>\n",
       "      <td>9</td>\n",
       "      <td>Bhuvaneshwar</td>\n",
       "      <td>35.000</td>\n",
       "      <td>89.0</td>\n",
       "      <td>83.0</td>\n",
       "      <td>68.000000</td>\n",
       "    </tr>\n",
       "  </tbody>\n",
       "</table>\n",
       "</div>"
      ],
      "text/plain": [
       "   Id          Name     Age  SPOS  DSBDA         AI\n",
       "1   2         Rajat  23.000  59.0   50.0  71.857143\n",
       "2   5        Jitesh  30.000  65.0   90.0  79.000000\n",
       "4   6        Suyash  20.000  65.0   60.0  71.857143\n",
       "6   8        Dinesh  31.125  49.0   50.0  71.857143\n",
       "7   9  Bhuvaneshwar  35.000  89.0   83.0  68.000000"
      ]
     },
     "execution_count": 47,
     "metadata": {},
     "output_type": "execute_result"
    }
   ],
   "source": [
    "dfcleaned.head()"
   ]
  },
  {
   "cell_type": "code",
   "execution_count": 50,
   "id": "8a7445b8-a2cf-4868-9bdc-2b004abcca52",
   "metadata": {},
   "outputs": [],
   "source": [
    "from sklearn.preprocessing import MinMaxScaler\n",
    "from sklearn.preprocessing import PowerTransformer\n"
   ]
  },
  {
   "cell_type": "code",
   "execution_count": 52,
   "id": "f96bd7ff-8a2f-4c9b-a07d-28f9d235992a",
   "metadata": {},
   "outputs": [],
   "source": [
    "scaler=MinMaxScaler()\n",
    "powertransform=PowerTransformer()"
   ]
  },
  {
   "cell_type": "code",
   "execution_count": 56,
   "id": "649a9fcf-a037-4ea9-bf8a-2fe6502efb38",
   "metadata": {},
   "outputs": [],
   "source": [
    "df[['SPOS']]=scaler.fit_transform(df[['SPOS']])"
   ]
  },
  {
   "cell_type": "code",
   "execution_count": 57,
   "id": "daf07309-8460-4a85-8690-d6829ebac787",
   "metadata": {},
   "outputs": [],
   "source": [
    "df[['AI']]=powertransform.fit_transform(df[['AI']])"
   ]
  },
  {
   "cell_type": "code",
   "execution_count": 58,
   "id": "9645be13-466c-46e9-a381-6f87412fc091",
   "metadata": {},
   "outputs": [
    {
     "data": {
      "text/html": [
       "<div>\n",
       "<style scoped>\n",
       "    .dataframe tbody tr th:only-of-type {\n",
       "        vertical-align: middle;\n",
       "    }\n",
       "\n",
       "    .dataframe tbody tr th {\n",
       "        vertical-align: top;\n",
       "    }\n",
       "\n",
       "    .dataframe thead th {\n",
       "        text-align: right;\n",
       "    }\n",
       "</style>\n",
       "<table border=\"1\" class=\"dataframe\">\n",
       "  <thead>\n",
       "    <tr style=\"text-align: right;\">\n",
       "      <th></th>\n",
       "      <th>Id</th>\n",
       "      <th>Name</th>\n",
       "      <th>Age</th>\n",
       "      <th>SPOS</th>\n",
       "      <th>DSBDA</th>\n",
       "      <th>AI</th>\n",
       "    </tr>\n",
       "  </thead>\n",
       "  <tbody>\n",
       "    <tr>\n",
       "      <th>0</th>\n",
       "      <td>1</td>\n",
       "      <td>Virat</td>\n",
       "      <td>39.000</td>\n",
       "      <td>0.842857</td>\n",
       "      <td>79.0</td>\n",
       "      <td>1.826543</td>\n",
       "    </tr>\n",
       "    <tr>\n",
       "      <th>1</th>\n",
       "      <td>2</td>\n",
       "      <td>Rajat</td>\n",
       "      <td>23.000</td>\n",
       "      <td>0.571429</td>\n",
       "      <td>50.0</td>\n",
       "      <td>-0.111188</td>\n",
       "    </tr>\n",
       "    <tr>\n",
       "      <th>2</th>\n",
       "      <td>5</td>\n",
       "      <td>Jitesh</td>\n",
       "      <td>30.000</td>\n",
       "      <td>0.657143</td>\n",
       "      <td>90.0</td>\n",
       "      <td>0.636444</td>\n",
       "    </tr>\n",
       "    <tr>\n",
       "      <th>3</th>\n",
       "      <td>4</td>\n",
       "      <td>Yash</td>\n",
       "      <td>31.125</td>\n",
       "      <td>0.857143</td>\n",
       "      <td>70.0</td>\n",
       "      <td>-1.981729</td>\n",
       "    </tr>\n",
       "    <tr>\n",
       "      <th>4</th>\n",
       "      <td>6</td>\n",
       "      <td>Suyash</td>\n",
       "      <td>20.000</td>\n",
       "      <td>0.657143</td>\n",
       "      <td>60.0</td>\n",
       "      <td>-0.111188</td>\n",
       "    </tr>\n",
       "  </tbody>\n",
       "</table>\n",
       "</div>"
      ],
      "text/plain": [
       "   Id    Name     Age      SPOS  DSBDA        AI\n",
       "0   1   Virat  39.000  0.842857   79.0  1.826543\n",
       "1   2   Rajat  23.000  0.571429   50.0 -0.111188\n",
       "2   5  Jitesh  30.000  0.657143   90.0  0.636444\n",
       "3   4    Yash  31.125  0.857143   70.0 -1.981729\n",
       "4   6  Suyash  20.000  0.657143   60.0 -0.111188"
      ]
     },
     "execution_count": 58,
     "metadata": {},
     "output_type": "execute_result"
    }
   ],
   "source": [
    "df.head()"
   ]
  },
  {
   "cell_type": "code",
   "execution_count": 59,
   "id": "977f0bc5-585a-4877-bca5-25432189090e",
   "metadata": {},
   "outputs": [
    {
     "data": {
      "text/plain": [
       "<Axes: xlabel='AI'>"
      ]
     },
     "execution_count": 59,
     "metadata": {},
     "output_type": "execute_result"
    },
    {
     "data": {
      "image/png": "[encoded data removed]",
      "text/plain": [
       "<Figure size 640x480 with 1 Axes>"
      ]
     },
     "metadata": {},
     "output_type": "display_data"
    }
   ],
   "source": [
    "sns.boxplot(x=df['AI'])"
   ]
  },
  {
   "cell_type": "code",
   "execution_count": null,
   "id": "fe9e4dba-b802-4705-abef-dc784079bdc1",
   "metadata": {},
   "outputs": [],
   "source": []
  }
 ],
 "metadata": {
  "kernelspec": {
   "display_name": "Python 3 (ipykernel)",
   "language": "python",
   "name": "python3"
  },
  "language_info": {
   "codemirror_mode": {
    "name": "ipython",
    "version": 3
   },
   "file_extension": ".py",
   "mimetype": "text/x-python",
   "name": "python",
   "nbconvert_exporter": "python",
   "pygments_lexer": "ipython3",
   "version": "3.12.7"
  }
 },
 "nbformat": 4,
 "nbformat_minor": 5
}
